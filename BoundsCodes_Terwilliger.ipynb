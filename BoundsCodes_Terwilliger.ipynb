{
 "cells": [
  {
   "cell_type": "code",
   "execution_count": 4,
   "id": "5c79bab2",
   "metadata": {
    "scrolled": true
   },
   "outputs": [],
   "source": [
    "import numpy as np\n",
    "import itertools\n",
    "import picos as pic\n",
    "import Fun as f\n",
    "import mosek\n",
    "import sys\n",
    "\n",
    "import collections"
   ]
  },
  {
   "cell_type": "code",
   "execution_count": 5,
   "id": "manual-stock",
   "metadata": {
    "scrolled": true
   },
   "outputs": [
    {
     "data": {
      "text/plain": [
       "'\\n#### Existing qubit codes ####\\n\\nfor code in Codes:\\n    \\n    n,K,d=code\\n    \\n    check=SDP(n,2**K,d,D)\\n    \\n    if check != True:\\n        print(\"%s=%s\" % (code,check))\\n\\nprint(\"Done\")\\n\\n\\n\\n\\n#### Not existing qubit codes (distance+1) ####\\n\\nfor code in Codes:\\n    \\n    n,K,d=code\\n    \\n    check=SDP(n,2**K,d+1,D)\\n    \\n    if check != False:\\n        print(\"[%s,%s,%s]=%s\" % (code[0],code[1],code[2]+1,check))\\n\\nprint(\"Done\")\\n\\n'"
      ]
     },
     "execution_count": 5,
     "metadata": {},
     "output_type": "execute_result"
    }
   ],
   "source": [
    "def SDP(n,K,d,D):\n",
    "    \n",
    "    ##### SDP #####\n",
    "\n",
    "    pic.available_solvers()\n",
    "    \n",
    "    Ap = pic.RealVariable(\"Ap\", n+1)  # A column vector with n+1 elements.\n",
    "    \n",
    "    sdp = pic.Problem()\n",
    "    \n",
    "    #sdp.options[\"abs_*_tol\"] = 1e-05\n",
    "    \n",
    "    sdp.set_objective('find') \n",
    "                   \n",
    "    ##### Adding matrix constraints #####\n",
    "    \n",
    "    sdp.add_constraint(Ap[0]==1)\n",
    "    \n",
    "    eps=1\n",
    "    \n",
    "    eps_tw=1\n",
    "    \n",
    "    ##### NPA #####\n",
    "        \n",
    "    ### Constructing Beta matrices ###\n",
    "\n",
    "    Bmatrix=f.BetaMatrices(Ap,n) #### B_j(x)>>0 ####\n",
    "    \n",
    "    sdp.add_list_of_constraints(eps_tw*pic.block(Bmatrix[k])>>0 for k in range(int(n/2)+1))\n",
    "    \n",
    "    ##### Adding K-L constrains #####\n",
    "    \n",
    "    ### K*B'_j-A'_j=0  for d > j >= 0 ###\n",
    "    \n",
    "    sdp.add_list_of_constraints((K*Ap[n-i]-Ap[i])*eps== 0 for i in range(d)) \n",
    "    \n",
    "    ### A_j>=0 ###\n",
    "    \n",
    "    for m in range(n+1):\n",
    "        A=sum((-1)**(m-j)*D**(j)*f.comb(n-j,n-m)*Ap[j] for j in range(m+1))\n",
    "        sdp.add_constraint(A*eps >= 0)\n",
    "\n",
    "    ### K*B_j-A_j>=0 ###\n",
    "    \n",
    "    for m in range(n+1):   \n",
    "                                    \n",
    "        KBA=sum((-1)**(m-j)*D**(j)*f.comb(n-j,n-m)*(K*Ap[n-j]-Ap[j]) for j in range(m+1))\n",
    "        #sdp.add_constraint(KBA/eps >= 0)\n",
    "    \n",
    "    ##### Adding Shadow constrains #####\n",
    "    \n",
    "    ### sum(K_j*A'_j)>=0 ###\n",
    "    \n",
    "    for j in range(n+1):\n",
    "        \n",
    "        S=sum(f.K_fun(n-j,i,n)*Ap[i] for i in range(n+1))\n",
    "        sdp.add_constraint(S*eps >= 0)\n",
    "        \n",
    "    ### Convention for K=1 codes ###\n",
    "    \n",
    "    if K==1:\n",
    "        \n",
    "        sdp.add_list_of_constraints(Ap[i]== f.comb(n,i)/D**i for i in range(1,d))\n",
    "    \n",
    "    sol = sdp.solve(primals=False)\n",
    "    \n",
    "    if sol.problemStatus == \"feasible\":\n",
    "        \n",
    "        return True    \n",
    "    \n",
    "    elif sol.problemStatus == \"infeasible\":\n",
    "        task=sdp.strategy.solver.int\n",
    "        task.set_Stream(mosek.streamtype.msg, sys.stdout.write)\n",
    "        print(task.solutionsummary(mosek.streamtype.msg))\n",
    "        \n",
    "        return False\n",
    "    else:\n",
    "        task=sdp.strategy.solver.int\n",
    "        task.set_Stream(mosek.streamtype.msg, sys.stdout.write)\n",
    "        print(task.solutionsummary(mosek.streamtype.msg))\n",
    "        return sol.problemStatus \n",
    "\n",
    "\n",
    "Codes=[\n",
    "[1,0,1],[1,1,1],\n",
    "[2,0,2],[2,1,1],[2,2,1],\n",
    "[3,0,2],[3,1,1],[3,2,1],[3,3,1],\n",
    "[4,0,2],[4,1,2],[4,2,2],[4,3,1],[4,4,1],\n",
    "[5,0,3],[5,1,3],[5,2,2],[5,3,1],[5,4,1],[5,5,1],\n",
    "[6,0,4],[6,1,3],[6,2,2],[6,3,2],[6,4,2],[6,5,1],[6,6,1],\n",
    "[7,0,3],[7,1,3],[7,2,2],[7,3,2],[7,4,2],[7,5,1],[7,6,1],[7,7,1],\n",
    "\n",
    "[8,0,4],[8,1,3],[8,2,3],[8,3,3],[8,4,2],[8,5,2],[8,6,2],[8,7,1],[8,8,1],\n",
    "[9,0,4],[9,1,3],[9,2,3],[9,3,3],[9,4,2],[9,5,2],[9,6,2],[9,7,1],[9,8,1],[9,9,1],\n",
    "[10,0,4],[10,1,4],[10,2,4],[10,3,3],[10,4,3],[10,5,2],[10,6,2],[10,7,2],[10,8,2],[10,9,1],[10,10,1]\n",
    "]\n",
    "\n",
    "\"\"\"\n",
    "#### Existing qubit codes ####\n",
    "\n",
    "for code in Codes:\n",
    "    \n",
    "    n,K,d=code\n",
    "    \n",
    "    check=SDP(n,2**K,d,D)\n",
    "    \n",
    "    if check != True:\n",
    "        print(\"%s=%s\" % (code,check))\n",
    "\n",
    "print(\"Done\")\n",
    "\n",
    "\n",
    "\n",
    "\n",
    "#### Not existing qubit codes (distance+1) ####\n",
    "\n",
    "for code in Codes:\n",
    "    \n",
    "    n,K,d=code\n",
    "    \n",
    "    check=SDP(n,2**K,d+1,D)\n",
    "    \n",
    "    if check != False:\n",
    "        print(\"[%s,%s,%s]=%s\" % (code[0],code[1],code[2]+1,check))\n",
    "\n",
    "print(\"Done\")\n",
    "\n",
    "\"\"\"\n",
    "\n",
    "#### The program prints True if the sdp is feasible and false if it is infeasible ####"
   ]
  },
  {
   "cell_type": "code",
   "execution_count": 6,
   "id": "developmental-broadcasting",
   "metadata": {
    "scrolled": true
   },
   "outputs": [
    {
     "name": "stdout",
     "output_type": "stream",
     "text": [
      "\n",
      "Interior-point solution summary\n",
      "  Problem status  : PRIMAL_INFEASIBLE\n",
      "  Solution status : PRIMAL_INFEASIBLE_CER\n",
      "  Dual.    obj: 6.9919067195e-01    nrm: 5e+02    Viol.  con: 1e-19    var: 1e-11    barvar: 9e-14  \n",
      "None\n",
      "[39, 24, 13]=False\n"
     ]
    }
   ],
   "source": [
    "\n",
    "\n",
    "D=2\n",
    "\n",
    "Codes=[[10,24,3], [13,40,4], [21,7168,4], [24,49152,4], [22,384,6], [22,56,7], [24,24,8]] \n",
    "\n",
    "Codes=[[39,24,13]]\n",
    "\n",
    "#Codes=[[2,1,1]]\n",
    "\n",
    "for codes in Codes:\n",
    "    print(\"%s=%s\" % (codes,SDP(codes[0],codes[1],codes[2],D)))\n",
    "\n",
    " "
   ]
  },
  {
   "cell_type": "code",
   "execution_count": 3,
   "id": "billion-federation",
   "metadata": {
    "scrolled": false
   },
   "outputs": [
    {
     "name": "stdout",
     "output_type": "stream",
     "text": [
      "[16, 5, 5]=True\n",
      "[17, 3, 6]=True\n",
      "[17, 5, 5]=True\n",
      "[17, 6, 5]=True\n",
      "[18, 3, 6]=True\n",
      "[18, 4, 6]=True\n",
      "[19, 3, 6]=True\n",
      "[19, 4, 6]=True\n",
      "[19, 5, 6]=True\n",
      "[19, 7, 5]=True\n",
      "[19, 10, 4]=True\n",
      "[20, 2, 7]=True\n",
      "[20, 3, 7]=True\n",
      "[20, 5, 6]=True\n",
      "[20, 6, 6]=True\n",
      "[20, 7, 5]=unknown\n",
      "[20, 8, 5]=unknown\n",
      "[20, 11, 4]=unknown\n"
     ]
    }
   ],
   "source": [
    "Codes=[\n",
    "[16,5,5],\n",
    "[17,3,6],[17,5,5],[17,6,5],\n",
    "[18,3,6],[18,4,6],\n",
    "[19,3,6],[19,4,6],[19,5,6],[19,7,5],[19,10,4],\n",
    "[20,2,7],[20,3,7],[20,5,6],[20,6,6],[20,7,5],[20,8,5],[20,11,4]  \n",
    "]\n",
    "\n",
    "for codes in Codes:\n",
    "    print(\"%s=%s\" % (codes,SDP(codes[0],2**codes[1],codes[2],D)))"
   ]
  },
  {
   "cell_type": "code",
   "execution_count": 4,
   "id": "caring-boating",
   "metadata": {
    "scrolled": false
   },
   "outputs": [
    {
     "name": "stdout",
     "output_type": "stream",
     "text": [
      "[7, 26, 2]=True\n",
      "[9, 112, 2]=True\n",
      "[11, 460, 2]=True\n",
      "[13, 1877, 2]=True\n",
      "[15, 7606, 2]=True\n",
      "[7, 3, 3]=True\n",
      "[8, 9, 3]=True\n",
      "[9, 13, 3]=True\n",
      "[11, 53, 3]=True\n",
      "[12, 89, 3]=True\n",
      "[13, 204, 3]=True\n",
      "[14, 324, 3]=True\n",
      "[15, 580, 3]=True\n",
      "[7, 1, 4]=True\n",
      "[10, 5, 4]=True\n",
      "[11, 7, 4]=True\n",
      "[12, 20, 4]=True\n",
      "[13, 40, 4]=True\n",
      "[14, 102, 4]=True\n",
      "[15, 150, 4]=True\n",
      "[13, 3, 5]=True\n",
      "[14, 10, 5]=True\n",
      "[15, 18, 5]=True\n"
     ]
    }
   ],
   "source": [
    "#### Non-additive ####\n",
    "\n",
    "D=2\n",
    "\n",
    "Codes=[[7,26,2],[9,112,2],[11,460,2],[13,1877,2],[15,7606,2],\n",
    "      [7,3,3],[8,9,3],[9,13,3],[11,53,3],[12,89,3],[13,204,3],[14,324,3],[15,580,3],\n",
    "      [7,1,4],[10,5,4],[11,7,4],[12,20,4],[13,40,4],[14,102,4],[15,150,4],\n",
    "      [13,3,5],[14,10,5],[15,18,5]]\n",
    "\n",
    "for codes in Codes:\n",
    "    print(\"%s=%s\" % (codes,SDP(codes[0],codes[1],codes[2],D)))"
   ]
  },
  {
   "cell_type": "code",
   "execution_count": 22,
   "id": "finnish-sellers",
   "metadata": {},
   "outputs": [
    {
     "name": "stdout",
     "output_type": "stream",
     "text": [
      "[7, 0, 4]=True\n",
      "[15, 4, 5]=True\n",
      "[15, 7, 4]=True\n",
      "[16, 8, 4]=True\n",
      "[19, 3, 3]=True\n",
      "[22, 14, 4]=True\n",
      "[25, 0, 10]=unknown\n"
     ]
    }
   ],
   "source": [
    "Codes=[[7, 0, 4], [15, 4, 5], [15, 7, 4], [16, 8, 4], [19, 3, 3], [22, 14, 4], [25, 0, 10]]\n",
    "\n",
    "for codes in Codes:\n",
    "    print(\"%s=%s\" % (codes,SDP(codes[0],2**codes[1],codes[2],D)))"
   ]
  },
  {
   "cell_type": "code",
   "execution_count": null,
   "id": "active-bracket",
   "metadata": {},
   "outputs": [],
   "source": []
  }
 ],
 "metadata": {
  "kernelspec": {
   "display_name": "Python 3",
   "language": "python",
   "name": "python3"
  },
  "language_info": {
   "codemirror_mode": {
    "name": "ipython",
    "version": 3
   },
   "file_extension": ".py",
   "mimetype": "text/x-python",
   "name": "python",
   "nbconvert_exporter": "python",
   "pygments_lexer": "ipython3",
   "version": "3.9.2"
  }
 },
 "nbformat": 4,
 "nbformat_minor": 5
}
