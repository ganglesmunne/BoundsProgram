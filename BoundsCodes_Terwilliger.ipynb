{
 "cells": [
  {
   "cell_type": "code",
   "execution_count": null,
   "id": "5c79bab2",
   "metadata": {
    "scrolled": true
   },
   "outputs": [],
   "source": [
    "import numpy as np\n",
    "import math\n",
    "import itertools\n",
    "import picos as pic"
   ]
  },
  {
   "cell_type": "code",
   "execution_count": null,
   "id": "foster-debate",
   "metadata": {},
   "outputs": [],
   "source": [
    "def K_fun(m,k,n):\n",
    "\n",
    "    Fun=0\n",
    "\n",
    "    for q in range(0,m+1):\n",
    "        Fun+= math.comb(n-k,m-q)*math.comb(k,q)*(-1)**q\n",
    "    return Fun \n",
    "\n",
    "def comb_g(n,k):\n",
    "\n",
    "    if n>=0 and k>=0:\n",
    "        value=math.comb(n,k)\n",
    "    else:\n",
    "        value=0\n",
    "\n",
    "    return value\n",
    "\n",
    "def Beta(i,j,k,t,n):\n",
    "\n",
    "    beta=0\n",
    "\n",
    "    for u in range(n+1):\n",
    "\n",
    "        beta+= comb_g(u,t)*comb_g(n-2*k,u-k)*comb_g(n-k-u,i-u)*comb_g(n-k-u,j-u)*(-1)**(u-t)\n",
    "\n",
    "    return beta"
   ]
  },
  {
   "cell_type": "code",
   "execution_count": 20,
   "id": "manual-stock",
   "metadata": {
    "scrolled": false
   },
   "outputs": [
    {
     "data": {
      "text/plain": [
       "'\\n\\n#### Existing qubit codes ####\\n\\nfor code in Codes:\\n    \\n    n,K,d=code\\n    \\n    check=SDP(n,2**K,d,D)\\n    \\n    if check != True:\\n        print(\"%s=%s\" % (code,check))\\n\\nprint(\"Done\")\\n\\n\\n\\n#### Not existing qubit codes (distance+1) ####\\n\\nfor code in Codes:\\n    \\n    n,K,d=code\\n    \\n    check=SDP(n,2**K,d+1,D)\\n    \\n    if check != False:\\n        print(\"[%s,%s,%s]=%s\" % (code[0],code[1],code[2]+1,check))\\n\\nprint(\"Done\")\\n'"
      ]
     },
     "execution_count": 20,
     "metadata": {},
     "output_type": "execute_result"
    }
   ],
   "source": [
    "def SDP(n,K,d,D):\n",
    "    \n",
    "    ##### SDP #####\n",
    "\n",
    "    pic.available_solvers()\n",
    "    \n",
    "    Ap = pic.RealVariable(\"Ap\", n+1)  # A column vector with n+1 elements.\n",
    "    \n",
    "    sdp = pic.Problem()\n",
    "    \n",
    "    #sdp.options[\"abs_*_tol\"] = 1e-06\n",
    "    \n",
    "    sdp.set_objective('find') \n",
    "    \n",
    "                 \n",
    "    ##### Adding matrix constraints #####\n",
    "    \n",
    "    sdp.add_constraint(Ap[0]==K**2)\n",
    "    sdp.add_constraint(Ap[n]==K)\n",
    "    \n",
    "    ##### NPA #####\n",
    "        \n",
    "    ### Constructing Beta matrices ###\n",
    "    \n",
    "    cl=1e-6*0\n",
    "    \n",
    "    cl2=1e-6*0\n",
    "    \n",
    "    cl3=1e-6*0\n",
    "    \n",
    "    BMatrix=[]\n",
    "    \n",
    "    for k in range(0,int(n/2)+1):\n",
    "        \n",
    "        Matrix=[[0]*(n-2*k+1) for _ in range(n-2*k+1)]\n",
    "\n",
    "        for i in range(k,n-k+1):\n",
    "            for j in range(k,n-k+1):\n",
    "                for t in range(n+1):\n",
    "                    \n",
    "                    l=i+j-2*t\n",
    "                    \n",
    "                    if l>n or t>i or t>j:\n",
    "                        \n",
    "                        Matrix[i-k][j-k]+=0\n",
    "                    \n",
    "                    else:\n",
    "                        \n",
    "                        Matrix[i-k][j-k]+=(1/math.comb(n,l))*Ap[l]*Beta(i,j,k,t,n)\n",
    "                \n",
    "        BMatrix.append(pic.block(Matrix))\n",
    "\n",
    "        Zero=pic.block(np.identity(n-2*k+1))\n",
    "\n",
    "        sdp.add_constraint(BMatrix[k] >> -cl*Zero) #### B_j(x)>>0 ####\n",
    "        \n",
    "    ##### Adding K-L constrains #####\n",
    "    \n",
    "    ### K*B'_j-A'_j=0  for d > j >= 0 ###\n",
    "    \n",
    "    sdp.add_list_of_constraints((K*Ap[n-i]-Ap[i])== 0 for i in range(d)) \n",
    "    \n",
    "    #sdp.add_list_of_constraints(((K*Ap[n-i]-Ap[i]) >= -cl3) for i in range(d)) \n",
    "    #sdp.add_list_of_constraints(((K*Ap[n-i]-Ap[i]) <= cl3) for i in range(d)) \n",
    "    \n",
    "    ### A_j>=0 ###\n",
    "    \n",
    "    for m in range(n+1):\n",
    "        sdp.add_constraint(sum((-1)**(m-j)*D**(j)*math.comb(n-j,n-m)*Ap[j] for j in range(m+1)) >= -cl2)\n",
    "\n",
    "    ### K*B_j-A_j>=0 ###\n",
    "    \n",
    "    for m in range(n+1):   \n",
    "                                    \n",
    "        sdp.add_constraint(                              \n",
    "        sum((-1)**(m-j)*D**(j)*math.comb(n-j,n-m)*(K*Ap[n-j]-Ap[j]) for j in range(m+1)) >= -cl2)\n",
    "    \n",
    "    ##### Adding Shadow constrains #####\n",
    "    \n",
    "    ### sum(K_j*A'_j)>=0 ###\n",
    "    \n",
    "    for j in range(n+1):\n",
    "        sdp.add_constraint(sum(K_fun(n-j,i,n)*Ap[i] for i in range(n+1)) >= -cl2)\n",
    "    \n",
    "    sol = sdp.solve(primals=False,solver='mosek')\n",
    "    \n",
    "    #sol = sdp.solve(primals=True)\n",
    "\n",
    "    #print(np.array(BMatrix[0]))\n",
    "    \n",
    "    if sol.problemStatus == \"feasible\":\n",
    "        return True                    \n",
    "    elif sol.problemStatus == \"infeasible\":\n",
    "        return False\n",
    "    else:\n",
    "        return sol.problemStatus \n",
    "\n",
    "D=2\n",
    "\n",
    "Codes=[\n",
    "[1,0,1],[1,1,1],\n",
    "[2,0,2],[2,1,1],[2,2,1],\n",
    "[3,0,2],[3,1,1],[3,2,1],[3,3,1],\n",
    "[4,0,2],[4,1,2],[4,2,2],[4,3,1],[4,4,1],\n",
    "[5,0,3],[5,1,3],[5,2,2],[5,3,1],[5,4,1],[5,5,1],\n",
    "[6,0,4],[6,1,3],[6,2,2],[6,3,2],[6,4,2],[6,5,1],[6,6,1],\n",
    "[7,0,3],[7,1,3],[7,2,2],[7,3,2],[7,4,2],[7,5,1],[7,6,1],[7,7,1],\n",
    "\n",
    "[8,0,4],[8,1,3],[8,2,3],[8,3,3],[8,4,2],[8,5,2],[8,6,2],[8,7,1],[8,8,1],\n",
    "[9,0,4],[9,1,3],[9,2,3],[9,3,3],[9,4,2],[9,5,2],[9,6,2],[9,7,1],[9,8,1],[9,9,1],\n",
    "[10,0,4],[10,1,4],[10,2,4],[10,3,3],[10,4,3],[10,5,2],[10,6,2],[10,7,2],[10,8,2],[10,9,1],[10,10,1]\n",
    "]\n",
    "\n",
    "#Codes=[[7,0,3],[7,1,3],[7,2,2],[7,3,2],[7,4,2],[7,5,1],[7,6,1],[7,7,1]]\n",
    "\"\"\"\n",
    "\n",
    "#### Existing qubit codes ####\n",
    "\n",
    "for code in Codes:\n",
    "    \n",
    "    n,K,d=code\n",
    "    \n",
    "    check=SDP(n,2**K,d,D)\n",
    "    \n",
    "    if check != True:\n",
    "        print(\"%s=%s\" % (code,check))\n",
    "\n",
    "print(\"Done\")\n",
    "\n",
    "\n",
    "\n",
    "#### Not existing qubit codes (distance+1) ####\n",
    "\n",
    "for code in Codes:\n",
    "    \n",
    "    n,K,d=code\n",
    "    \n",
    "    check=SDP(n,2**K,d+1,D)\n",
    "    \n",
    "    if check != False:\n",
    "        print(\"[%s,%s,%s]=%s\" % (code[0],code[1],code[2]+1,check))\n",
    "\n",
    "print(\"Done\")\n",
    "\"\"\"\n",
    "\n",
    "\n",
    "#### The program prints True if the sdp is feasible and false if it is infeasible #### "
   ]
  },
  {
   "cell_type": "code",
   "execution_count": 21,
   "id": "caring-boating",
   "metadata": {
    "scrolled": false
   },
   "outputs": [
    {
     "name": "stdout",
     "output_type": "stream",
     "text": [
      "[7, 26, 2]=True\n",
      "[9, 112, 2]=unknown\n",
      "[11, 460, 2]=unknown\n",
      "[13, 1877, 2]=unknown\n",
      "[15, 7606, 2]=False\n"
     ]
    }
   ],
   "source": [
    "D=2\n",
    "\n",
    "Codes=[[7,26,2],[9,112,2],[11,460,2],[13,1877,2],[15,7606,2]]\n",
    "\n",
    "for codes in Codes:\n",
    "    print(\"%s=%s\" % (codes,SDP(codes[0],codes[1],codes[2],D)))"
   ]
  },
  {
   "cell_type": "code",
   "execution_count": null,
   "id": "cosmetic-pasta",
   "metadata": {
    "scrolled": false
   },
   "outputs": [],
   "source": [
    "D=2\n",
    "\n",
    "Codes=[[7,3,3],[8,9,3],[9,13,3],[11,53,3],[12,89,3],[13,204,3],[14,324,3],[15,580,3]]\n",
    "\n",
    "for codes in Codes:\n",
    "    print(\"%s=%s\" % (codes,SDP(codes[0],codes[1],codes[2],D)))"
   ]
  },
  {
   "cell_type": "code",
   "execution_count": null,
   "id": "undefined-dairy",
   "metadata": {},
   "outputs": [],
   "source": [
    "D=2\n",
    "\n",
    "Codes=[[7,1,4],[10,5,4],[11,7,4],[12,20,4],[13,40,4],[14,102,4],[15,150,4]]\n",
    "    \n",
    "for codes in Codes:\n",
    "    print(\"%s=%s\" % (codes,SDP(codes[0],codes[1],codes[2],D)))"
   ]
  },
  {
   "cell_type": "code",
   "execution_count": null,
   "id": "renewable-dynamics",
   "metadata": {
    "scrolled": false
   },
   "outputs": [],
   "source": [
    "D=2\n",
    "\n",
    "Codes=[[13,3,5],[14,10,5],[15,18,5]]\n",
    "    \n",
    "for codes in Codes:\n",
    "    print(\"%s=%s\" % (codes,SDP(codes[0],codes[1],codes[2],D)))"
   ]
  },
  {
   "cell_type": "code",
   "execution_count": null,
   "id": "desperate-simon",
   "metadata": {
    "scrolled": false
   },
   "outputs": [],
   "source": [
    "Codes=[[14,3,5],[24,0,10]]\n",
    "\n",
    "for codes in Codes:\n",
    "    print(\"%s=%s\" % (codes,SDP(codes[0],2**codes[1],codes[2],D)))"
   ]
  },
  {
   "cell_type": "code",
   "execution_count": null,
   "id": "recovered-surname",
   "metadata": {},
   "outputs": [],
   "source": []
  }
 ],
 "metadata": {
  "kernelspec": {
   "display_name": "Python 3",
   "language": "python",
   "name": "python3"
  },
  "language_info": {
   "codemirror_mode": {
    "name": "ipython",
    "version": 3
   },
   "file_extension": ".py",
   "mimetype": "text/x-python",
   "name": "python",
   "nbconvert_exporter": "python",
   "pygments_lexer": "ipython3",
   "version": "3.9.2"
  }
 },
 "nbformat": 4,
 "nbformat_minor": 5
}
