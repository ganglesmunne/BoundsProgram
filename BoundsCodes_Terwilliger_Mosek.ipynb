{
 "cells": [
  {
   "cell_type": "code",
   "execution_count": 1,
   "id": "5c79bab2",
   "metadata": {
    "scrolled": true
   },
   "outputs": [],
   "source": [
    "import numpy as np\n",
    "import itertools\n",
    "import picos as pic\n",
    "import Fun as f\n",
    "import mosek\n",
    "import sys\n",
    "\n",
    "import collections"
   ]
  },
  {
   "cell_type": "code",
   "execution_count": 84,
   "id": "manual-stock",
   "metadata": {
    "scrolled": true
   },
   "outputs": [
    {
     "data": {
      "text/plain": [
       "'\\n#### Existing qubit codes ####\\n\\nfor code in Codes:\\n    \\n    n,K,d=code\\n    \\n    check=SDP(n,2**K,d,D)\\n    \\n    if check != True:\\n        print(\"%s=%s\" % (code,check))\\n\\nprint(\"Done\")\\n\\n\\n\\n\\n#### Not existing qubit codes (distance+1) ####\\n\\nfor code in Codes:\\n    \\n    n,K,d=code\\n    \\n    check=SDP(n,2**K,d+1,D)\\n    \\n    if check != False:\\n        print(\"[%s,%s,%s]=%s\" % (code[0],code[1],code[2]+1,check))\\n\\nprint(\"Done\")\\n\\n'"
      ]
     },
     "execution_count": 84,
     "metadata": {},
     "output_type": "execute_result"
    }
   ],
   "source": [
    "def SDP(n,K,d,D):\n",
    "    \n",
    "    ##### SDP #####\n",
    "\n",
    "    pic.available_solvers()\n",
    "    \n",
    "    Ap = pic.RealVariable(\"Ap\", n+1)  # A column vector with n+1 elements.\n",
    "    \n",
    "    sdp = pic.Problem()\n",
    "    \n",
    "    #sdp.options[\"abs_*_tol\"] = 1e-05\n",
    "    \n",
    "    sdp.set_objective('find') \n",
    "                   \n",
    "    ##### Adding matrix constraints #####\n",
    "    \n",
    "    sdp.add_constraint(Ap[0]==1)\n",
    "    \n",
    "    eps=1\n",
    "    \n",
    "    ##### NPA #####\n",
    "        \n",
    "    ### Constructing Beta matrices ###\n",
    "\n",
    "    Bmatrix=f.BetaMatrices(Ap,n) #### B_j(x)>>0 ####\n",
    "    \n",
    "    sdp.add_list_of_constraints(pic.block(Bmatrix[k])>>0 for k in range(0,int(n/2)+1))\n",
    "    \n",
    "    ##### Adding K-L constrains #####\n",
    "    \n",
    "    ### K*B'_j-A'_j=0  for d > j >= 0 ###\n",
    "    \n",
    "    sdp.add_list_of_constraints((K*Ap[n-i]-Ap[i])/eps== 0 for i in range(d)) \n",
    "    \n",
    "    ### A_j>=0 ###\n",
    "    \n",
    "    for m in range(n+1):\n",
    "        A=sum((-1)**(m-j)*D**(j)*f.comb(n-j,n-m)*Ap[j] for j in range(m+1))\n",
    "        sdp.add_constraint(A/eps >= 0)\n",
    "\n",
    "    ### K*B_j-A_j>=0 ###\n",
    "    \n",
    "    for m in range(n+1):   \n",
    "                                    \n",
    "        KBA=sum((-1)**(m-j)*D**(j)*f.comb(n-j,n-m)*(K*Ap[n-j]-Ap[j]) for j in range(m+1))\n",
    "        sdp.add_constraint(KBA/eps >= 0)\n",
    "    \n",
    "    ##### Adding Shadow constrains #####\n",
    "    \n",
    "    ### sum(K_j*A'_j)>=0 ###\n",
    "    \n",
    "    for j in range(n+1):\n",
    "        \n",
    "        S=sum(f.K_fun(n-j,i,n)*Ap[i] for i in range(n+1))\n",
    "        #sdp.add_constraint(S/eps >= 0)\n",
    "        \n",
    "    ### Convention for K=1 codes ###\n",
    "    \n",
    "    if K==1:\n",
    "        \n",
    "        sdp.add_list_of_constraints(Ap[i]== f.comb(n,i)/D**i for i in range(1,d))\n",
    "    \n",
    "    sol = sdp.solve(primals=False)\n",
    "    \n",
    "    task=sdp.strategy.solver.int\n",
    "\n",
    "    return task\n",
    "\n",
    "    \"\"\"\n",
    "    if sol.problemStatus == \"feasible\":\n",
    "        \n",
    "        return True    \n",
    "    \n",
    "    elif sol.problemStatus == \"infeasible\":\n",
    "        task=sdp.strategy.solver.int\n",
    "        task.set_Stream(mosek.streamtype.msg, sys.stdout.write)\n",
    "        print(task.solutionsummary(mosek.streamtype.msg))\n",
    "        \n",
    "        return False\n",
    "    else:\n",
    "        task=sdp.strategy.solver.int\n",
    "        task.set_Stream(mosek.streamtype.msg, sys.stdout.write)\n",
    "        print(task.solutionsummary(mosek.streamtype.msg))\n",
    "          \n",
    "        return sol.problemStatus\n",
    "    \"\"\"\n",
    "\n",
    "Codes=[\n",
    "[1,0,1],[1,1,1],\n",
    "[2,0,2],[2,1,1],[2,2,1],\n",
    "[3,0,2],[3,1,1],[3,2,1],[3,3,1],\n",
    "[4,0,2],[4,1,2],[4,2,2],[4,3,1],[4,4,1],\n",
    "[5,0,3],[5,1,3],[5,2,2],[5,3,1],[5,4,1],[5,5,1],\n",
    "[6,0,4],[6,1,3],[6,2,2],[6,3,2],[6,4,2],[6,5,1],[6,6,1],\n",
    "[7,0,3],[7,1,3],[7,2,2],[7,3,2],[7,4,2],[7,5,1],[7,6,1],[7,7,1],\n",
    "\n",
    "[8,0,4],[8,1,3],[8,2,3],[8,3,3],[8,4,2],[8,5,2],[8,6,2],[8,7,1],[8,8,1],\n",
    "[9,0,4],[9,1,3],[9,2,3],[9,3,3],[9,4,2],[9,5,2],[9,6,2],[9,7,1],[9,8,1],[9,9,1],\n",
    "[10,0,4],[10,1,4],[10,2,4],[10,3,3],[10,4,3],[10,5,2],[10,6,2],[10,7,2],[10,8,2],[10,9,1],[10,10,1]\n",
    "]\n",
    "\n",
    "\"\"\"\n",
    "#### Existing qubit codes ####\n",
    "\n",
    "for code in Codes:\n",
    "    \n",
    "    n,K,d=code\n",
    "    \n",
    "    check=SDP(n,2**K,d,D)\n",
    "    \n",
    "    if check != True:\n",
    "        print(\"%s=%s\" % (code,check))\n",
    "\n",
    "print(\"Done\")\n",
    "\n",
    "\n",
    "\n",
    "\n",
    "#### Not existing qubit codes (distance+1) ####\n",
    "\n",
    "for code in Codes:\n",
    "    \n",
    "    n,K,d=code\n",
    "    \n",
    "    check=SDP(n,2**K,d+1,D)\n",
    "    \n",
    "    if check != False:\n",
    "        print(\"[%s,%s,%s]=%s\" % (code[0],code[1],code[2]+1,check))\n",
    "\n",
    "print(\"Done\")\n",
    "\n",
    "\"\"\"\n",
    "\n",
    "#### The program prints True if the sdp is feasible and false if it is infeasible ####"
   ]
  },
  {
   "cell_type": "code",
   "execution_count": 36,
   "id": "developmental-broadcasting",
   "metadata": {
    "scrolled": true
   },
   "outputs": [
    {
     "name": "stdout",
     "output_type": "stream",
     "text": [
      "[10, 24, 3]=True\n",
      "[13, 40, 4]=True\n",
      "\n",
      "Interior-point solution summary\n",
      "  Problem status  : UNKNOWN\n",
      "  Solution status : UNKNOWN\n",
      "  Primal.  obj: 0.0000000000e+00    nrm: 3e+09    Viol.  con: 1e+04    var: 0e+00    barvar: 0e+00  \n",
      "  Dual.    obj: 3.8380878665e-05    nrm: 7e+00    Viol.  con: 9e-19    var: 9e-06    barvar: 8e-07  \n",
      "None\n",
      "[21, 7168, 4]=unknown\n",
      "\n",
      "Interior-point solution summary\n",
      "  Problem status  : UNKNOWN\n",
      "  Solution status : UNKNOWN\n",
      "  Primal.  obj: 0.0000000000e+00    nrm: 2e+11    Viol.  con: 2e+06    var: 0e+00    barvar: 0e+00  \n",
      "  Dual.    obj: 1.8176054873e-04    nrm: 4e+01    Viol.  con: 5e-18    var: 8e-06    barvar: 2e-06  \n",
      "None\n",
      "[24, 49152, 4]=unknown\n",
      "\n",
      "Interior-point solution summary\n",
      "  Problem status  : UNKNOWN\n",
      "  Solution status : UNKNOWN\n",
      "  Primal.  obj: 0.0000000000e+00    nrm: 3e+08    Viol.  con: 3e+03    var: 0e+00    barvar: 0e+00  \n",
      "  Dual.    obj: 1.1917197269e-04    nrm: 4e+01    Viol.  con: 3e-18    var: 3e-06    barvar: 2e-06  \n",
      "None\n",
      "[22, 384, 6]=unknown\n",
      "\n",
      "Interior-point solution summary\n",
      "  Problem status  : UNKNOWN\n",
      "  Solution status : UNKNOWN\n",
      "  Primal.  obj: 0.0000000000e+00    nrm: 4e+07    Viol.  con: 2e+02    var: 0e+00    barvar: 0e+00  \n",
      "  Dual.    obj: 3.9051590650e-05    nrm: 2e+01    Viol.  con: 7e-18    var: 6e-06    barvar: 1e-06  \n",
      "None\n",
      "[22, 56, 7]=unknown\n",
      "\n",
      "Interior-point solution summary\n",
      "  Problem status  : UNKNOWN\n",
      "  Solution status : UNKNOWN\n",
      "  Primal.  obj: 0.0000000000e+00    nrm: 8e+07    Viol.  con: 6e+02    var: 0e+00    barvar: 0e+00  \n",
      "  Dual.    obj: 2.0563199078e-04    nrm: 8e+01    Viol.  con: 4e-16    var: 2e-05    barvar: 1e-06  \n",
      "None\n",
      "[24, 24, 8]=unknown\n",
      "\n",
      "Interior-point solution summary\n",
      "  Problem status  : PRIMAL_INFEASIBLE\n",
      "  Solution status : PRIMAL_INFEASIBLE_CER\n",
      "  Dual.    obj: 4.4333086215e-01    nrm: 2e+02    Viol.  con: 7e-18    var: 4e-12    barvar: 6e-11  \n",
      "None\n",
      "[39, 24, 13]=False\n"
     ]
    }
   ],
   "source": [
    "D=2\n",
    "\n",
    "Codes=[[10,24,3], [13,40,4], [21,7168,4], [24,49152,4], [22,384,6], [22,56,7], [24,24,8], [39,24,13]] \n",
    "\n",
    "#Codes=[[2,1,1]]\n",
    "\n",
    "for codes in Codes:\n",
    "    print(\"%s=%s\" % (codes,SDP(codes[0],codes[1],codes[2],D)))\n",
    "\n",
    " "
   ]
  },
  {
   "cell_type": "code",
   "execution_count": 15,
   "id": "billion-federation",
   "metadata": {
    "scrolled": false
   },
   "outputs": [
    {
     "name": "stdout",
     "output_type": "stream",
     "text": [
      "[16, 5, 5]=True\n",
      "[17, 3, 6]=True\n",
      "[17, 5, 5]=True\n",
      "[17, 6, 5]=True\n",
      "[18, 3, 6]=True\n",
      "[18, 4, 6]=True\n",
      "[19, 3, 6]=True\n",
      "[19, 4, 6]=True\n",
      "[19, 5, 6]=True\n",
      "[19, 7, 5]=True\n",
      "[19, 10, 4]=True\n",
      "[20, 2, 7]=True\n",
      "[20, 3, 7]=True\n",
      "[20, 5, 6]=True\n",
      "[20, 6, 6]=True\n",
      "[20, 7, 5]=True\n",
      "[20, 8, 5]=True\n",
      "[20, 11, 4]=True\n"
     ]
    }
   ],
   "source": [
    "Codes=[\n",
    "[16,5,5],\n",
    "[17,3,6],[17,5,5],[17,6,5],\n",
    "[18,3,6],[18,4,6],\n",
    "[19,3,6],[19,4,6],[19,5,6],[19,7,5],[19,10,4],\n",
    "[20,2,7],[20,3,7],[20,5,6],[20,6,6],[20,7,5],[20,8,5],[20,11,4]  \n",
    "]\n",
    "\n",
    "for codes in Codes:\n",
    "    print(\"%s=%s\" % (codes,SDP(codes[0],2**codes[1],codes[2],D)))"
   ]
  },
  {
   "cell_type": "code",
   "execution_count": 6,
   "id": "caring-boating",
   "metadata": {
    "scrolled": false
   },
   "outputs": [
    {
     "name": "stdout",
     "output_type": "stream",
     "text": [
      "[7, 26, 2]=True\n",
      "[9, 112, 2]=True\n",
      "[11, 460, 2]=True\n",
      "[13, 1877, 2]=True\n",
      "[15, 7606, 2]=True\n",
      "[7, 3, 3]=True\n",
      "[8, 9, 3]=True\n",
      "[9, 13, 3]=True\n",
      "[11, 53, 3]=True\n",
      "[12, 89, 3]=True\n",
      "[13, 204, 3]=True\n",
      "[14, 324, 3]=True\n",
      "[15, 580, 3]=True\n",
      "[7, 1, 4]=True\n",
      "[10, 5, 4]=True\n",
      "[11, 7, 4]=True\n",
      "[12, 20, 4]=True\n",
      "[13, 40, 4]=True\n",
      "[14, 102, 4]=True\n",
      "[15, 150, 4]=True\n",
      "[13, 3, 5]=True\n",
      "[14, 10, 5]=True\n",
      "[15, 18, 5]=True\n"
     ]
    }
   ],
   "source": [
    "#### Non-additive ####\n",
    "\n",
    "D=2\n",
    "\n",
    "Codes=[[7,26,2],[9,112,2],[11,460,2],[13,1877,2],[15,7606,2],\n",
    "      [7,3,3],[8,9,3],[9,13,3],[11,53,3],[12,89,3],[13,204,3],[14,324,3],[15,580,3],\n",
    "      [7,1,4],[10,5,4],[11,7,4],[12,20,4],[13,40,4],[14,102,4],[15,150,4],\n",
    "      [13,3,5],[14,10,5],[15,18,5]]\n",
    "\n",
    "for codes in Codes:\n",
    "    print(\"%s=%s\" % (codes,SDP(codes[0],codes[1],codes[2],D)))"
   ]
  },
  {
   "cell_type": "code",
   "execution_count": 72,
   "id": "finnish-sellers",
   "metadata": {},
   "outputs": [
    {
     "name": "stdout",
     "output_type": "stream",
     "text": [
      "\n",
      "Interior-point solution summary\n",
      "  Problem status  : UNKNOWN\n",
      "  Solution status : UNKNOWN\n",
      "  Primal.  obj: 0.0000000000e+00    nrm: 6e+06    Viol.  con: 3e+05    var: 0e+00    barvar: 0e+00  \n",
      "  Dual.    obj: 4.9897264601e-03    nrm: 1e+05    Viol.  con: 6e-17    var: 2e-05    barvar: 3e-05  \n",
      "None\n",
      "[25, 0, 10]=unknown\n"
     ]
    }
   ],
   "source": [
    "Codes=[[7, 0, 4], [15, 4, 5], [15, 7, 4], [16, 8, 4], [19, 3, 3], [22, 14, 4], [25, 0, 10]]\n",
    "\n",
    "Codes=[[25, 0, 10]]\n",
    "\n",
    "for codes in Codes:\n",
    "    print(\"%s=%s\" % (codes,SDP(codes[0],2**codes[1],codes[2],D)))"
   ]
  },
  {
   "cell_type": "code",
   "execution_count": 85,
   "id": "pacific-phase",
   "metadata": {},
   "outputs": [],
   "source": [
    "D=2\n",
    "\n",
    "#codes=[25, 0, 10]\n",
    "\n",
    "codes=[7, 0, 4]\n",
    "\n",
    "task=SDP(codes[0],D**codes[1],codes[2],D)"
   ]
  },
  {
   "cell_type": "code",
   "execution_count": 91,
   "id": "tutorial-graph",
   "metadata": {},
   "outputs": [
    {
     "name": "stdout",
     "output_type": "stream",
     "text": [
      "\n",
      "Interior-point solution summary\n",
      "  Problem status  : PRIMAL_AND_DUAL_FEASIBLE\n",
      "  Solution status : OPTIMAL\n",
      "  Primal.  obj: 0.0000000000e+00    nrm: 4e+01    Viol.  con: 6e-14    var: 0e+00    barvar: 3e-15  \n",
      "  Dual.    obj: -8.0491169285e-15   nrm: 4e+01    Viol.  con: 0e+00    var: 7e-15    barvar: 2e-12  \n",
      "\n",
      "                    Analyzing the problem\n",
      "\n",
      "*** Structural report\n",
      "                      Dimensions\n",
      "                      Constraints   Variables     Matrix var.   Cones         ACC           DJC         \n",
      "                      94            8             4             0             0             0\n",
      "\n",
      "                      Constraint and bound types\n",
      "                      Free          Lower         Upper         Ranged        Fixed       \n",
      "        Constraints:  0             16            0             0             78          \n",
      "          Variables:  8             0             0             0             0           \n",
      "\n",
      "                      Constraint matrix for the scalarized problem\n",
      "                      Rows          Columns       Nzs           Density(%)  \n",
      "                      94            78            337           4.60e+00    \n",
      "\n",
      "*** Constraint matrix\n",
      "\n",
      "*** Done analyzing the problem\n",
      "\n"
     ]
    }
   ],
   "source": [
    "task.set_Stream(mosek.streamtype.msg, sys.stdout.write)\n",
    "\n",
    "task.solutionsummary(mosek.streamtype.msg)\n",
    "\n",
    "#task.set_Stream(mosek.streamtype.msg, sys.stdout.write)\n",
    "    \n",
    "#task.analyzesolution(mosek.streamtype.msg,mosek.soltype.itg)\n",
    "\n",
    "task.analyzeproblem(mosek.streamtype.msg)  \n"
   ]
  },
  {
   "cell_type": "code",
   "execution_count": 92,
   "id": "crude-administration",
   "metadata": {},
   "outputs": [
    {
     "name": "stdout",
     "output_type": "stream",
     "text": [
      "Problem\n",
      "  Name                   :                 \n",
      "  Objective sense        : minimize        \n",
      "  Type                   : CONIC (conic optimization problem)\n",
      "  Constraints            : 94              \n",
      "  Affine conic cons.     : 0               \n",
      "  Disjunctive cons.      : 0               \n",
      "  Cones                  : 0               \n",
      "  Scalar variables       : 8               \n",
      "  Matrix variables       : 4               \n",
      "  Integer variables      : 0               \n",
      "\n",
      "Optimizer started.\n",
      "Optimizer terminated. Time: 0.00    \n",
      "\n"
     ]
    },
    {
     "ename": "Error",
     "evalue": "rescode.err_undef_solution(22000): The solution with code 2 is not defined.",
     "output_type": "error",
     "traceback": [
      "\u001b[0;31m---------------------------------------------------------------------------\u001b[0m",
      "\u001b[0;31mError\u001b[0m                                     Traceback (most recent call last)",
      "\u001b[0;32m<ipython-input-92-fd32f352b5c9>\u001b[0m in \u001b[0;36m<module>\u001b[0;34m\u001b[0m\n\u001b[1;32m      8\u001b[0m \u001b[0;31m#task.analyzeproblem(mosek.streamtype.msg)\u001b[0m\u001b[0;34m\u001b[0m\u001b[0;34m\u001b[0m\u001b[0;34m\u001b[0m\u001b[0m\n\u001b[1;32m      9\u001b[0m \u001b[0;34m\u001b[0m\u001b[0m\n\u001b[0;32m---> 10\u001b[0;31m \u001b[0mtask\u001b[0m\u001b[0;34m.\u001b[0m\u001b[0manalyzesolution\u001b[0m\u001b[0;34m(\u001b[0m\u001b[0mmosek\u001b[0m\u001b[0;34m.\u001b[0m\u001b[0mstreamtype\u001b[0m\u001b[0;34m.\u001b[0m\u001b[0mmsg\u001b[0m\u001b[0;34m,\u001b[0m\u001b[0mmosek\u001b[0m\u001b[0;34m.\u001b[0m\u001b[0msoltype\u001b[0m\u001b[0;34m.\u001b[0m\u001b[0mitg\u001b[0m\u001b[0;34m)\u001b[0m\u001b[0;34m\u001b[0m\u001b[0;34m\u001b[0m\u001b[0m\n\u001b[0m",
      "\u001b[0;32m~/.local/lib/python3.9/site-packages/mosek/__init__.py\u001b[0m in \u001b[0;36manalyzesolution\u001b[0;34m(self, *args, **kwds)\u001b[0m\n\u001b[1;32m   1591\u001b[0m         \u001b[0;34m[\u001b[0m\u001b[0mwhichstream\u001b[0m \u001b[0;34m:\u001b[0m \u001b[0mmosek\u001b[0m\u001b[0;34m.\u001b[0m\u001b[0mstreamtype\u001b[0m\u001b[0;34m]\u001b[0m  \u001b[0mIndex\u001b[0m \u001b[0mof\u001b[0m \u001b[0mthe\u001b[0m \u001b[0mstream\u001b[0m\u001b[0;34m.\u001b[0m\u001b[0;34m\u001b[0m\u001b[0;34m\u001b[0m\u001b[0m\n\u001b[1;32m   1592\u001b[0m       \"\"\"\n\u001b[0;32m-> 1593\u001b[0;31m       \u001b[0;32mreturn\u001b[0m \u001b[0mself\u001b[0m\u001b[0;34m.\u001b[0m\u001b[0m__analyzesolution_ii_3\u001b[0m\u001b[0;34m(\u001b[0m\u001b[0;34m*\u001b[0m\u001b[0margs\u001b[0m\u001b[0;34m,\u001b[0m\u001b[0;34m**\u001b[0m\u001b[0mkwds\u001b[0m\u001b[0;34m)\u001b[0m\u001b[0;34m\u001b[0m\u001b[0;34m\u001b[0m\u001b[0m\n\u001b[0m\u001b[1;32m   1594\u001b[0m     \u001b[0;32mdef\u001b[0m \u001b[0m__initbasissolve_O_2\u001b[0m\u001b[0;34m(\u001b[0m\u001b[0mself\u001b[0m\u001b[0;34m,\u001b[0m\u001b[0mbasis\u001b[0m\u001b[0;34m)\u001b[0m\u001b[0;34m:\u001b[0m\u001b[0;34m\u001b[0m\u001b[0;34m\u001b[0m\u001b[0m\n\u001b[1;32m   1595\u001b[0m       \u001b[0mcopyback_basis\u001b[0m \u001b[0;34m=\u001b[0m \u001b[0;32mFalse\u001b[0m\u001b[0;34m\u001b[0m\u001b[0;34m\u001b[0m\u001b[0m\n",
      "\u001b[0;32m~/.local/lib/python3.9/site-packages/mosek/__init__.py\u001b[0m in \u001b[0;36m__analyzesolution_ii_3\u001b[0;34m(self, whichstream, whichsol)\u001b[0m\n\u001b[1;32m   1582\u001b[0m       \u001b[0;32mif\u001b[0m \u001b[0m_res_analyzesolution\u001b[0m \u001b[0;34m!=\u001b[0m \u001b[0;36m0\u001b[0m\u001b[0;34m:\u001b[0m\u001b[0;34m\u001b[0m\u001b[0;34m\u001b[0m\u001b[0m\n\u001b[1;32m   1583\u001b[0m         \u001b[0m_\u001b[0m\u001b[0;34m,\u001b[0m\u001b[0m_msg_analyzesolution\u001b[0m \u001b[0;34m=\u001b[0m \u001b[0mself\u001b[0m\u001b[0;34m.\u001b[0m\u001b[0m__getlasterror\u001b[0m\u001b[0;34m(\u001b[0m\u001b[0m_res_analyzesolution\u001b[0m\u001b[0;34m)\u001b[0m\u001b[0;34m\u001b[0m\u001b[0;34m\u001b[0m\u001b[0m\n\u001b[0;32m-> 1584\u001b[0;31m         \u001b[0;32mraise\u001b[0m \u001b[0mError\u001b[0m\u001b[0;34m(\u001b[0m\u001b[0mrescode\u001b[0m\u001b[0;34m(\u001b[0m\u001b[0m_res_analyzesolution\u001b[0m\u001b[0;34m)\u001b[0m\u001b[0;34m,\u001b[0m\u001b[0m_msg_analyzesolution\u001b[0m\u001b[0;34m)\u001b[0m\u001b[0;34m\u001b[0m\u001b[0;34m\u001b[0m\u001b[0m\n\u001b[0m\u001b[1;32m   1585\u001b[0m     \u001b[0;32mdef\u001b[0m \u001b[0manalyzesolution\u001b[0m\u001b[0;34m(\u001b[0m\u001b[0mself\u001b[0m\u001b[0;34m,\u001b[0m\u001b[0;34m*\u001b[0m\u001b[0margs\u001b[0m\u001b[0;34m,\u001b[0m\u001b[0;34m**\u001b[0m\u001b[0mkwds\u001b[0m\u001b[0;34m)\u001b[0m\u001b[0;34m:\u001b[0m\u001b[0;34m\u001b[0m\u001b[0;34m\u001b[0m\u001b[0m\n\u001b[1;32m   1586\u001b[0m       \"\"\"\n",
      "\u001b[0;31mError\u001b[0m: rescode.err_undef_solution(22000): The solution with code 2 is not defined."
     ]
    }
   ],
   "source": [
    "task.set_Stream(mosek.streamtype.msg, sys.stdout.write)\n",
    "\n",
    "task.putintparam(mosek.iparam.log, 2)\n",
    "\n",
    "task.optimize()\n",
    "\n",
    "#task.solutionsummary(mosek.streamtype.msg)\n",
    "#task.analyzeproblem(mosek.streamtype.msg) \n",
    "\n",
    "#task.analyzesolution(mosek.streamtype.msg,mosek.soltype.itg)"
   ]
  }
 ],
 "metadata": {
  "kernelspec": {
   "display_name": "Python 3",
   "language": "python",
   "name": "python3"
  },
  "language_info": {
   "codemirror_mode": {
    "name": "ipython",
    "version": 3
   },
   "file_extension": ".py",
   "mimetype": "text/x-python",
   "name": "python",
   "nbconvert_exporter": "python",
   "pygments_lexer": "ipython3",
   "version": "3.9.2"
  }
 },
 "nbformat": 4,
 "nbformat_minor": 5
}
