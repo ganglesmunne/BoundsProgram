{
 "cells": [
  {
   "cell_type": "code",
   "execution_count": 2,
   "id": "5c79bab2",
   "metadata": {
    "scrolled": true
   },
   "outputs": [],
   "source": [
    "import numpy as np\n",
    "import itertools\n",
    "import picos as pic\n",
    "import Fun as f\n",
    "import mosek\n",
    "import sys"
   ]
  },
  {
   "cell_type": "code",
   "execution_count": 3,
   "id": "manual-stock",
   "metadata": {
    "scrolled": true
   },
   "outputs": [],
   "source": [
    "def SDP(n,K,d,D):\n",
    "    \n",
    "    ##### SDP #####\n",
    "\n",
    "    pic.available_solvers()\n",
    "    \n",
    "    Ap = pic.RealVariable(\"Ap\", n+1)  # A column vector with n+1 elements.\n",
    "    \n",
    "    sdp = pic.Problem()\n",
    "    \n",
    "    #sdp.options[\"abs_*_tol\"] = 1e-05\n",
    "    \n",
    "    sdp.set_objective('find') \n",
    "                   \n",
    "    ##### Adding matrix constraints #####\n",
    "    \n",
    "    sdp.add_constraint(Ap[0]==1/K)\n",
    "    \n",
    "    ##### NPA #####\n",
    "    \n",
    "    eps=1/K\n",
    "    \n",
    "    \"\"\"\n",
    "    ### Constructing Beta matrices ###\n",
    "    \n",
    "    Bmatrix=f.BetaMatrices(Ap,n) #### B_j(x)>>0 ####\n",
    " \n",
    "    #sdp.add_list_of_constraints(pic.block(Bmatrix[k])>>0 for k in range(int(n/2)+1))\n",
    "    \"\"\"\n",
    "    \n",
    "    ##### Adding K-L constrains #####\n",
    "    \n",
    "    ### K*B'_j-A'_j=0  for d > j >= 0 ###\n",
    "    \n",
    "    sdp.add_list_of_constraints((K*Ap[n-i]-Ap[i])== 0 for i in range(d)) \n",
    "    \n",
    "    ### A_j>=0 ###\n",
    "    \n",
    "    for m in range(n+1):\n",
    "        A=sum((-1)**(m-j)*D**(j)*f.comb(n-j,n-m)*Ap[j] for j in range(m+1))\n",
    "        sdp.add_constraint(A*eps >= 0)\n",
    "\n",
    "    ### K*B_j-A_j>=0 ###\n",
    "    \n",
    "    for m in range(n+1):   \n",
    "                                    \n",
    "        KBA=sum((-1)**(m-j)*D**(j)*f.comb(n-j,n-m)*(K*Ap[n-j]-Ap[j]) for j in range(m+1))\n",
    "        sdp.add_constraint(KBA*eps >= 0)\n",
    "    \n",
    "    ##### Adding Shadow constrains #####\n",
    "    \n",
    "    ### sum(K_j*A'_j)>=0 ###\n",
    "    \n",
    "    for j in range(n+1):\n",
    "        \n",
    "        S=sum(f.K_fun(n-j,i,n)*Ap[i] for i in range(n+1))\n",
    "        sdp.add_constraint(S*eps >= 0)\n",
    "        \n",
    "    ### Convention for K=1 codes ###\n",
    "    \n",
    "    if K==1:\n",
    "        \n",
    "        sdp.add_list_of_constraints(Ap[i]== f.comb(n,i)/D**i for i in range(1,d))\n",
    "\n",
    "    sol = sdp.solve(primals=False)\n",
    "    \n",
    "    if sol.problemStatus == \"feasible\":\n",
    "        \n",
    "        return True    \n",
    "    \n",
    "    elif sol.problemStatus == \"infeasible\":\n",
    "\n",
    "        #task=sdp.strategy.solver.int\n",
    "        #task.set_Stream(mosek.streamtype.msg, sys.stdout.write)\n",
    "        #print(task.solutionsummary(mosek.streamtype.msg))\n",
    "        \n",
    "        return False\n",
    "    else:\n",
    "        return sol.problemStatus "
   ]
  },
  {
   "cell_type": "code",
   "execution_count": 3,
   "id": "several-hepatitis",
   "metadata": {
    "scrolled": true
   },
   "outputs": [
    {
     "data": {
      "text/plain": [
       "'\\nexec(open(\"./qutrit_upper_bounds.py\").read())\\n\\nn_min=19\\nn_max=20\\n\\nD=3\\n\\nfor n in range(n_min,n_max+1):\\n    \\n    k=0\\n    \\n    for d in L_upper_qutrit[n-1]:\\n        \\n        \\n        #print(\"[%s,%s,%s]\" % (n,k,d))\\n        \\n        check=SDP(n,D**k,d,D)\\n        \\n        \\n        \\n        if check != True:\\n            print(\"[%s,%s,%s]=%s\" % (n,k,d,check))\\n        \\n        k += 1\\nprint(\"Done\")\\n'"
      ]
     },
     "execution_count": 3,
     "metadata": {},
     "output_type": "execute_result"
    }
   ],
   "source": [
    "\"\"\"\n",
    "exec(open(\"./qutrit_upper_bounds.py\").read())\n",
    "\n",
    "n_min=19\n",
    "n_max=20\n",
    "\n",
    "D=3\n",
    "\n",
    "for n in range(n_min,n_max+1):\n",
    "    \n",
    "    k=0\n",
    "    \n",
    "    for d in L_upper_qutrit[n-1]:\n",
    "        \n",
    "        \n",
    "        #print(\"[%s,%s,%s]\" % (n,k,d))\n",
    "        \n",
    "        check=SDP(n,D**k,d,D)\n",
    "        \n",
    "        \n",
    "        \n",
    "        if check != True:\n",
    "            print(\"[%s,%s,%s]=%s\" % (n,k,d,check))\n",
    "        \n",
    "        k += 1\n",
    "print(\"Done\")\n",
    "\"\"\""
   ]
  },
  {
   "cell_type": "code",
   "execution_count": 4,
   "id": "broadband-joining",
   "metadata": {
    "scrolled": true
   },
   "outputs": [
    {
     "name": "stdout",
     "output_type": "stream",
     "text": [
      "[19,13,4]=True\n",
      "[19,14,4]=True\n",
      "[19,15,3]=True\n",
      "[19,16,3]=True\n",
      "[19,17,3]=True\n",
      "[19,18,2]=True\n",
      "[19,19,2]=True\n",
      "[20,14,4]=True\n",
      "[20,15,4]=True\n",
      "[20,16,3]=True\n",
      "[20,17,3]=True\n",
      "[20,18,3]=True\n",
      "[20,19,2]=True\n",
      "[20,20,2]=True\n",
      "Done\n"
     ]
    }
   ],
   "source": [
    "\n",
    "exec(open(\"./qutrit_upper_bounds.py\").read())\n",
    "\n",
    "\n",
    "n_min=19\n",
    "n_max=20\n",
    "\n",
    "D=3\n",
    "\n",
    "for n in range(n_min,n_max+1):\n",
    "    \n",
    "    k=0\n",
    "    \n",
    "    for d in L_upper_qutrit[n-1]:\n",
    "        \n",
    "        check=SDP(n,D**k,d+1,D)\n",
    "        \n",
    "        if check != False:\n",
    "            print(\"[%s,%s,%s]=%s\" % (n,k,d+1,check))\n",
    "        \n",
    "        k += 1\n",
    "print(\"Done\")\n"
   ]
  },
  {
   "cell_type": "code",
   "execution_count": null,
   "id": "sunset-image",
   "metadata": {},
   "outputs": [],
   "source": []
  }
 ],
 "metadata": {
  "kernelspec": {
   "display_name": "Python 3",
   "language": "python",
   "name": "python3"
  },
  "language_info": {
   "codemirror_mode": {
    "name": "ipython",
    "version": 3
   },
   "file_extension": ".py",
   "mimetype": "text/x-python",
   "name": "python",
   "nbconvert_exporter": "python",
   "pygments_lexer": "ipython3",
   "version": "3.9.2"
  }
 },
 "nbformat": 4,
 "nbformat_minor": 5
}
